{
  "nbformat": 4,
  "nbformat_minor": 0,
  "metadata": {
    "colab": {
      "provenance": []
    },
    "kernelspec": {
      "name": "python3",
      "display_name": "Python 3"
    },
    "language_info": {
      "name": "python"
    }
  },
  "cells": [
    {
      "cell_type": "markdown",
      "source": [
        "# **1. Prepare the Data**"
      ],
      "metadata": {
        "id": "Twkq73zXH9P1"
      }
    },
    {
      "cell_type": "code",
      "execution_count": 4,
      "metadata": {
        "id": "yarv3kVIFoyU",
        "colab": {
          "base_uri": "https://localhost:8080/"
        },
        "outputId": "c5b9bc73-d150-4ad5-e7a7-b5cc9b3a0d1c"
      },
      "outputs": [
        {
          "output_type": "stream",
          "name": "stdout",
          "text": [
            "Mounted at /content/drive\n"
          ]
        }
      ],
      "source": [
        "from google.colab import drive\n",
        "drive.mount('/content/drive')"
      ]
    },
    {
      "cell_type": "markdown",
      "source": [
        "**The dataset:** https://www.kaggle.com/datasets/shayanfazeli/heartbeat?resource=download"
      ],
      "metadata": {
        "id": "LlniQ58BIoko"
      }
    },
    {
      "cell_type": "code",
      "source": [
        "import pandas as pd\n",
        "\n",
        "train_path = '/content/drive/My Drive/ECGHeartBeat/mitbih_train.csv'\n",
        "test_path = '/content/drive/My Drive/ECGHeartBeat/mitbih_test.csv'\n",
        "train = pd.read_csv(train_path, header=None)\n",
        "test = pd.read_csv(test_path, header=None)"
      ],
      "metadata": {
        "id": "9JuytK2VHJ6D"
      },
      "execution_count": 5,
      "outputs": []
    },
    {
      "cell_type": "markdown",
      "source": [
        "#**2. Preprocess the Data**\n",
        "\n"
      ],
      "metadata": {
        "id": "xHgwAPZKIxgz"
      }
    },
    {
      "cell_type": "code",
      "source": [
        "x_train = train.drop(187, axis=1)\n",
        "y_train = train[187]\n",
        "x_test = test.drop(187, axis=1)\n",
        "y_test = test[187]\n",
        "\n",
        "print(x_train, y_train, x_test, y_test)"
      ],
      "metadata": {
        "colab": {
          "base_uri": "https://localhost:8080/"
        },
        "id": "Q-cmAPfXkgeI",
        "outputId": "26f3a560-0400-404d-f5fa-af2b8d6cdaef"
      },
      "execution_count": 6,
      "outputs": [
        {
          "output_type": "stream",
          "name": "stdout",
          "text": [
            "            0         1         2         3         4         5         6    \\\n",
            "0      0.977941  0.926471  0.681373  0.245098  0.154412  0.191176  0.151961   \n",
            "1      0.960114  0.863248  0.461538  0.196581  0.094017  0.125356  0.099715   \n",
            "2      1.000000  0.659459  0.186486  0.070270  0.070270  0.059459  0.056757   \n",
            "3      0.925414  0.665746  0.541436  0.276243  0.196133  0.077348  0.071823   \n",
            "4      0.967136  1.000000  0.830986  0.586854  0.356808  0.248826  0.145540   \n",
            "...         ...       ...       ...       ...       ...       ...       ...   \n",
            "87549  0.807018  0.494737  0.536842  0.529825  0.491228  0.484211  0.456140   \n",
            "87550  0.718333  0.605000  0.486667  0.361667  0.231667  0.120000  0.051667   \n",
            "87551  0.906122  0.624490  0.595918  0.575510  0.530612  0.481633  0.444898   \n",
            "87552  0.858228  0.645570  0.845570  0.248101  0.167089  0.131646  0.121519   \n",
            "87553  0.901506  0.845886  0.800695  0.748552  0.687138  0.599073  0.512167   \n",
            "\n",
            "            7         8         9    ...  177  178  179  180  181  182  183  \\\n",
            "0      0.085784  0.058824  0.049020  ...  0.0  0.0  0.0  0.0  0.0  0.0  0.0   \n",
            "1      0.088319  0.074074  0.082621  ...  0.0  0.0  0.0  0.0  0.0  0.0  0.0   \n",
            "2      0.043243  0.054054  0.045946  ...  0.0  0.0  0.0  0.0  0.0  0.0  0.0   \n",
            "3      0.060773  0.066298  0.058011  ...  0.0  0.0  0.0  0.0  0.0  0.0  0.0   \n",
            "4      0.089202  0.117371  0.150235  ...  0.0  0.0  0.0  0.0  0.0  0.0  0.0   \n",
            "...         ...       ...       ...  ...  ...  ...  ...  ...  ...  ...  ...   \n",
            "87549  0.396491  0.284211  0.136842  ...  0.0  0.0  0.0  0.0  0.0  0.0  0.0   \n",
            "87550  0.001667  0.000000  0.013333  ...  0.0  0.0  0.0  0.0  0.0  0.0  0.0   \n",
            "87551  0.387755  0.322449  0.191837  ...  0.0  0.0  0.0  0.0  0.0  0.0  0.0   \n",
            "87552  0.121519  0.118987  0.103797  ...  0.0  0.0  0.0  0.0  0.0  0.0  0.0   \n",
            "87553  0.427578  0.395133  0.402086  ...  0.0  0.0  0.0  0.0  0.0  0.0  0.0   \n",
            "\n",
            "       184  185  186  \n",
            "0      0.0  0.0  0.0  \n",
            "1      0.0  0.0  0.0  \n",
            "2      0.0  0.0  0.0  \n",
            "3      0.0  0.0  0.0  \n",
            "4      0.0  0.0  0.0  \n",
            "...    ...  ...  ...  \n",
            "87549  0.0  0.0  0.0  \n",
            "87550  0.0  0.0  0.0  \n",
            "87551  0.0  0.0  0.0  \n",
            "87552  0.0  0.0  0.0  \n",
            "87553  0.0  0.0  0.0  \n",
            "\n",
            "[87554 rows x 187 columns] 0        0.0\n",
            "1        0.0\n",
            "2        0.0\n",
            "3        0.0\n",
            "4        0.0\n",
            "        ... \n",
            "87549    4.0\n",
            "87550    4.0\n",
            "87551    4.0\n",
            "87552    4.0\n",
            "87553    4.0\n",
            "Name: 187, Length: 87554, dtype: float64             0         1         2         3         4         5         6    \\\n",
            "0      1.000000  0.758264  0.111570  0.000000  0.080579  0.078512  0.066116   \n",
            "1      0.908425  0.783883  0.531136  0.362637  0.366300  0.344322  0.333333   \n",
            "2      0.730088  0.212389  0.000000  0.119469  0.101770  0.101770  0.110619   \n",
            "3      1.000000  0.910417  0.681250  0.472917  0.229167  0.068750  0.000000   \n",
            "4      0.570470  0.399329  0.238255  0.147651  0.000000  0.003356  0.040268   \n",
            "...         ...       ...       ...       ...       ...       ...       ...   \n",
            "21887  0.928736  0.871264  0.804598  0.742529  0.650575  0.535632  0.394253   \n",
            "21888  0.802691  0.692078  0.587444  0.446936  0.318386  0.189836  0.118087   \n",
            "21889  1.000000  0.967359  0.620178  0.347181  0.139466  0.089021  0.103858   \n",
            "21890  0.984127  0.567460  0.607143  0.583333  0.607143  0.575397  0.575397   \n",
            "21891  0.973970  0.913232  0.865510  0.823210  0.746204  0.642082  0.547722   \n",
            "\n",
            "            7         8         9    ...  177  178  179  180  181  182  183  \\\n",
            "0      0.049587  0.047521  0.035124  ...  0.0  0.0  0.0  0.0  0.0  0.0  0.0   \n",
            "1      0.307692  0.296703  0.300366  ...  0.0  0.0  0.0  0.0  0.0  0.0  0.0   \n",
            "2      0.123894  0.115044  0.132743  ...  0.0  0.0  0.0  0.0  0.0  0.0  0.0   \n",
            "3      0.004167  0.014583  0.054167  ...  0.0  0.0  0.0  0.0  0.0  0.0  0.0   \n",
            "4      0.080537  0.070470  0.090604  ...  0.0  0.0  0.0  0.0  0.0  0.0  0.0   \n",
            "...         ...       ...       ...  ...  ...  ...  ...  ...  ...  ...  ...   \n",
            "21887  0.250575  0.140230  0.102299  ...  0.0  0.0  0.0  0.0  0.0  0.0  0.0   \n",
            "21888  0.077728  0.112108  0.152466  ...  0.0  0.0  0.0  0.0  0.0  0.0  0.0   \n",
            "21889  0.100890  0.106825  0.100890  ...  0.0  0.0  0.0  0.0  0.0  0.0  0.0   \n",
            "21890  0.488095  0.392857  0.238095  ...  0.0  0.0  0.0  0.0  0.0  0.0  0.0   \n",
            "21891  0.426247  0.325380  0.279826  ...  0.0  0.0  0.0  0.0  0.0  0.0  0.0   \n",
            "\n",
            "       184  185  186  \n",
            "0      0.0  0.0  0.0  \n",
            "1      0.0  0.0  0.0  \n",
            "2      0.0  0.0  0.0  \n",
            "3      0.0  0.0  0.0  \n",
            "4      0.0  0.0  0.0  \n",
            "...    ...  ...  ...  \n",
            "21887  0.0  0.0  0.0  \n",
            "21888  0.0  0.0  0.0  \n",
            "21889  0.0  0.0  0.0  \n",
            "21890  0.0  0.0  0.0  \n",
            "21891  0.0  0.0  0.0  \n",
            "\n",
            "[21892 rows x 187 columns] 0        0.0\n",
            "1        0.0\n",
            "2        0.0\n",
            "3        0.0\n",
            "4        0.0\n",
            "        ... \n",
            "21887    4.0\n",
            "21888    4.0\n",
            "21889    4.0\n",
            "21890    4.0\n",
            "21891    4.0\n",
            "Name: 187, Length: 21892, dtype: float64\n"
          ]
        }
      ]
    },
    {
      "cell_type": "markdown",
      "source": [
        "#**3. Exploratory Data Analysis (EDA)**"
      ],
      "metadata": {
        "id": "1IJNwdCVnYM-"
      }
    },
    {
      "cell_type": "code",
      "source": [
        "import matplotlib.pyplot as plt\n",
        "import numpy as np\n",
        "\n",
        "plt.hist(y_train, bins=np.arange(min(y_train), max(y_train)+2)-0.5, edgecolor='black')\n",
        "plt.xlabel(\"Classes\")\n",
        "plt.ylabel(\"Count\")\n",
        "plt.xticks(range(len(set(y_train))))\n",
        "plt.show()"
      ],
      "metadata": {
        "colab": {
          "base_uri": "https://localhost:8080/",
          "height": 449
        },
        "id": "Ln9h0imBkgjf",
        "outputId": "a65a520b-1c65-4993-b1fe-90f4d6423dc8"
      },
      "execution_count": 14,
      "outputs": [
        {
          "output_type": "display_data",
          "data": {
            "text/plain": [
              "<Figure size 640x480 with 1 Axes>"
            ],
            "image/png": "[encoded data removed]"
          },
          "metadata": {}
        }
      ]
    },
    {
      "cell_type": "markdown",
      "source": [
        "#**4. Train the Model**"
      ],
      "metadata": {
        "id": "Ua_7lJr7nyew"
      }
    },
    {
      "cell_type": "code",
      "source": [
        "from sklearn.ensemble import RandomForestClassifier\n",
        "\n",
        "def train_model(x_train, y_train):\n",
        "    model = RandomForestClassifier(n_estimators=100, random_state=1)\n",
        "    model.fit(x_train, y_train)\n",
        "    return model\n",
        "\n",
        "model = train_model(x_train, y_train)"
      ],
      "metadata": {
        "id": "D3lX7Hj9n2yI"
      },
      "execution_count": 8,
      "outputs": []
    },
    {
      "cell_type": "markdown",
      "source": [
        "#**5. Evaluate the Model**"
      ],
      "metadata": {
        "id": "3WD3KCJroI9O"
      }
    },
    {
      "cell_type": "code",
      "source": [
        "from sklearn.metrics import accuracy_score, classification_report, confusion_matrix\n",
        "\n",
        "def evaluate_model(model, x_test, y_test):\n",
        "    y_pred = model.predict(x_test)\n",
        "    accuracy = accuracy_score(y_test, y_pred)\n",
        "    print(\"Accuracy:\", accuracy)\n",
        "    print(classification_report(y_test, y_pred))\n",
        "    return y_pred\n",
        "\n",
        "def plot_confusion_matrix(y_test, y_pred, class_names):\n",
        "    cm = confusion_matrix(y_test, y_pred)\n",
        "    plt.figure(figsize=(8, 6))\n",
        "    plt.imshow(cm, interpolation='nearest', cmap=plt.cm.Blues)\n",
        "    plt.title('Confusion Matrix')\n",
        "    plt.colorbar()\n",
        "    tick_marks = np.arange(len(class_names))\n",
        "    plt.xticks(tick_marks, class_names)\n",
        "    plt.yticks(tick_marks, class_names)\n",
        "    plt.xlabel('Predicted Class')\n",
        "    plt.ylabel('True Class')\n",
        "\n",
        "    thresh = cm.max() / 2.\n",
        "    for i, j in np.ndindex(cm.shape):\n",
        "        plt.text(j, i, format(cm[i, j], 'd'),\n",
        "                 horizontalalignment=\"center\",\n",
        "                 color=\"white\" if cm[i, j] > thresh else \"black\")\n",
        "    plt.tight_layout()\n",
        "    plt.show()\n",
        "\n",
        "y_pred = evaluate_model(model, x_test, y_test)\n",
        "plot_confusion_matrix(y_test, y_pred, class_names=[0, 1, 2, 3, 4])"
      ],
      "metadata": {
        "colab": {
          "base_uri": "https://localhost:8080/",
          "height": 843
        },
        "id": "VivPkivZoNk-",
        "outputId": "c7016cba-b411-44ea-f553-b318ad27d096"
      },
      "execution_count": 9,
      "outputs": [
        {
          "output_type": "stream",
          "name": "stdout",
          "text": [
            "Accuracy: 0.9742828430476886\n",
            "              precision    recall  f1-score   support\n",
            "\n",
            "         0.0       0.97      1.00      0.99     18118\n",
            "         1.0       0.99      0.60      0.74       556\n",
            "         2.0       0.98      0.88      0.93      1448\n",
            "         3.0       0.88      0.60      0.71       162\n",
            "         4.0       1.00      0.94      0.97      1608\n",
            "\n",
            "    accuracy                           0.97     21892\n",
            "   macro avg       0.96      0.80      0.87     21892\n",
            "weighted avg       0.97      0.97      0.97     21892\n",
            "\n"
          ]
        },
        {
          "output_type": "display_data",
          "data": {
            "text/plain": [
              "<Figure size 800x600 with 2 Axes>"
            ],
            "image/png": "[encoded data removed]"
          },
          "metadata": {}
        }
      ]
    },
    {
      "cell_type": "markdown",
      "source": [
        "⠀⠀⠀⠀⠀⠀⠀⠀⠀⠀⠀⠀⠀⠀⠀⠀⠀⠀⠀⠀⠀⠀⠀⠀⠀⠀⢀⣴⣿⣿⡷⣄⠀⠀⠀⠀⠀⠀⠀⠀⠀⠀⠀⠀⠀⠀⠀⠀⠀⠀⠀⠀⠀⠀⠀⠀⠀⠀⠀⠀⠀⠀⠀⠀⠀\n",
        "⠀⠀⠀⠀⠀⠀⠀⠀⠀⠀⠀⠀⠀⠀⠀⠀⠀⠀⠀⠀⠀⠀⠀⠀⢀⣴⣿⡿⠋⠈⠻⣮⣳⡀⠀⠀⠀⠀⠀⠀⠀⠀⠀⠀⠀⠀⠀⠀⠀⠀⠀⠀⠀⠀⠀⠀⠀⠀⠀⠀⠀⠀⠀⠀⠀\n",
        "⠀⠀⠀⠀⠀⠀⠀⠀⠀⠀⠀⠀⠀⠀⠀⠀⠀⠀⠀⠀⠀⢀⣠⣴⣾⡿⠋⠀⠀⠀⠀⠙⣿⣿⣤⣀⡀⠀⠀⠀⠀⠀⠀⠀⠀⠀⠀⠀⠀⠀⠀⠀⠀⠀⠀⠀⠀⠀⠀⠀⠀⠀⠀⠀⠀\n",
        "⠀⠀⠀⠀⠀⠀⠀⠀⠀⠀⠀⠀⠀⠀⠀⠀⠀⢀⣤⣶⣿⡿⠟⠛⠉⠀⠀⠀⠀⠀⠀⠀⠈⠛⠛⠿⠿⣿⣷⣶⣤⣄⣀⠀⠀⠀⠀⠀⠀⠀⠀⠀⠀⠀⠀⠀⠀⠀⠀⠀⠀⠀⠀⠀⠀\n",
        "⠀⠀⠀⠀⠀⠀⠀⠀⠀⠀⠀⠀⠀⠀⣠⣴⣾⡿⠟⠋⠁⠀⠀⠀⠀⠀⠀⠀⠀⠀⠀⠀⠀⠀⠀⠀⠀⠀⠈⠉⠛⠻⠿⣿⣶⣦⣄⡀⠀⠀⠀⠀⠀⠀⠀⠀⠀⠀⠀⠀⠀⠀⠀⠀⠀\n",
        "⠀⠀⠀⣀⣠⣤⣤⣀⡀⠀⠀⣀⣴⣿⡿⠛⠁⠀⠀⠀⠀⠀⠀⠀⠀⠀⠀⠀⠀⠀⠀⠀⠀⠀⠀⠀⠀⠀⠀⠀⠀⠀⠀⠀⠉⠛⠿⣿⣷⣦⣄⡀⠀⠀⠀⠀⠀⠀⠀⢀⣀⣤⣄⠀⠀\n",
        "⢀⣤⣾⡿⠟⠛⠛⢿⣿⣶⣾⣿⠟⠉⠀⠀⠀⠀⠀⠀⠀⠀⠀⠀⠀⠀⠀⠀⠀⠀⠀⠀⠀⠀⠀⠀⠀⠀⠀⠀⠀⠀⠀⠀⠀⠀⠀⠀⠉⠛⠿⣿⣷⣦⣀⣀⣤⣶⣿⡿⠿⢿⣿⡀⠀\n",
        "⣿⣿⠏⠀⢰⡆⠀⠀⠉⢿⣿⡀⠀⠀⠀⠀⠀⠀⠀⠀⠀⠀⠀⠀⠀⠀⠀⠀⠀⠀⠀⠀⠀⠀⠀⠀⠀⠀⠀⠀⠀⠀⠀⠀⠀⠀⠀⠀⠀⠀⠀⠀⠙⠻⢿⡿⠟⠋⠁⠀⠀⢸⣿⠇⠀\n",
        "⣿⡟⠀⣀⠈⣀⡀⠒⠃⠀⠙⣿⡆⠀⠀⠀⠀⠀⠀⠀⣀⡀⠀⠀⠀⠀⠀⠀⠀⠀⠀⠀⠀⠀⠀⠀⠀⠀⠀⠀⠀⠀⠀⠀⠀⠀⠀⠀⠀⠀⠀⠀⠀⠀⠀⠀⠀⠀⠀⠀⠀⢸⣿⠇⠀\n",
        "⣿⡇⠀⠛⢠⡋⢙⡆⠀⠀⠀⠀⠀⠀⠀⠀⠀⠀⠀⣾⣿⣿⠄⠀⠀⠀⠀⠀⠀⠀⠀⠀⠀⠀⠀⠀⠀⠀⠀⠀⠀⠀⠀⠀⠀⠀⠀⠀⠀⠀⠀⠀⠀⠀⠀⠀⠀⠀⠀⠀⠀⣿⣿⠀⠀\n",
        "⣿⣧⠀⠀⠀⠓⠛⠁⠀⠀⠀⠀⠀⠀⠀⠀⠀⠀⠀⠘⠛⠋⠀⠀⢸⣧⣤⣤⣶⡀⠀⠀⠀⠀⠀⠀⠀⠀⠀⠀⠀⠀⠀⠀⠀⠀⠀⠀⠀⠀⠀⠀⠀⠀⠀⠀⠀⠀⠀⠀⢰⣿⡿⠀⠀\n",
        "⣿⣿⣤⣀⡀⠀⠀⠀⠀⠀⠀⠀⠀⠀⠀⠀⠀⠀⠀⠀⠀⠀⠀⠀⠀⠉⠉⠉⠻⣷⣶⣶⡆⠀⠀⠀⠀⠀⠀⠀⠀⠀⠀⠀⠀⠀⠀⠀⠀⠀⠀⠀⠀⠀⠀⠀⠀⠀⠀⢀⣿⣿⠁⠀⠀\n",
        "⠈⠛⠻⠿⢿⣿⣷⣶⣦⣤⣄⣀⡀⠀⠀⠀⠀⠀⠀⠀⠀⠀⠀⠀⠀⠀⠀⠀⠀⠀⠀⠀⠀⠀⠀⠀⠀⠀⠀⣴⣿⣷⠀⠀⠀⠀⠀⠀⠀⠀⠀⠀⠀⠀⠀⠀⠀⠀⠀⣾⣿⡏⠀⠀⠀\n",
        "⠀⠀⠀⠀⠀⠀⠀⠉⠙⠛⠻⠿⢿⣿⣷⣶⣦⣤⣄⣀⡀⠀⠀⠀⠀⠀⠀⠀⠀⠀⠀⠀⠀⠀⠀⠀⠀⠀⠀⠙⠿⠛⠀⠀⠀⠀⠀⠀⠀⠀⠀⠀⠀⠀⠀⠀⠀⠀⠀⠘⢿⣿⡄⠀⠀\n",
        "⠀⠀⠀⠀⠀⠀⠀⠀⠀⠀⠀⠀⠀⠀⠈⠉⠙⠛⠻⠿⢿⣿⣷⣶⣦⣤⣄⣀⡀⠀⠀⠀⠀⠀⠀⠀⠀⠀⠀⠀⠀⠀⠀⠀⠀⠀⠀⠀⠀⠀⠀⠀⠀⠀⠀⠀⠀⠀⠀⠀⠈⢿⣿⡄⠀\n",
        "⠀⠀⠀⠀⠀⠀⠀⠀⠀⠀⠀⠀⠀⠀⠀⠀⠀⠀⠀⠀⠀⠀⠀⠉⠉⠛⠛⠿⠿⣿⣷⣶⣶⣤⣤⣀⡀⠀⠀⠀⢀⣴⡆⠀⠀⠀⠀⠀⠀⠀⠀⠀⠀⠀⠀⠀⠀⠀⠀⠀⠀⠈⢿⡿⣄\n",
        "⠀⠀⠀⠀⠀⠀⠀⠀⠀⠀⠀⠀⠀⠀⠀⠀⠀⠀⠀⠀⠀⠀⠀⠀⠀⠀⠀⠀⠀⠀⠀⠉⠉⠛⠛⠿⠿⣿⣷⣶⡿⠋⠀⠀⠀⠀⠀⠀⠀⠀⠀⠀⠀⠀⠀⠀⠀⠀⠀⠀⠀⠀⠈⣿⣹\n",
        "⠀⠀⠀⠀⠀⠀⠀⠀⠀⠀⠀⠀⠀⠀⠀⠀⠀⠀⠀⠀⠀⠀⠀⠀⠀⠀⠀⠀⠀⠀⠀⠀⠀⠀⠀⠀⠀⠀⣿⣿⠃⠀⠀⠀⠀⠀⠀⠀⠀⠀⠀⠀⠀⠀⢀⣀⣀⠀⠀⠀⠀⠀⠀⢸⣧\n",
        "⠀⠀⠀⠀⠀⠀⠀⠀⠀⠀⠀⠀⠀⠀⠀⠀⠀⠀⠀⠀⠀⠀⠀⠀⠀⠀⠀⠀⠀⠀⠀⠀⠀⠀⠀⠀⠀⠀⢻⣿⣆⠀⠀⠀⠀⠀⠀⢀⣀⣠⣤⣶⣾⣿⣿⣿⣿⣤⣄⣀⡀⠀⠀⠀⣿\n",
        "⠀⠀⠀⠀⠀⠀⠀⠀⠀⠀⠀⠀⠀⠀⠀⠀⠀⠀⠀⠀⠀⠀⠀⠀⠀⠀⠀⠀⠀⠀⠀⠀⠀⠀⠀⠀⠀⠀⠈⠻⢿⣻⣷⣶⣾⣿⣿⡿⢯⣛⣛⡋⠁⠀⠀⠉⠙⠛⠛⠿⣿⣿⡷⣶⣿"
      ],
      "metadata": {
        "id": "-TVu-XbjVWmd"
      }
    }
  ]
}